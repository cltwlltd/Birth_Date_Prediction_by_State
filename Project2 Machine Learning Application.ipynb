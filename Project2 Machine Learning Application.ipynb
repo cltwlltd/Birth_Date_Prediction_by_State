{
 "cells": [
  {
   "cell_type": "markdown",
   "metadata": {},
   "source": [
    "# <font color=red> Birth Rate Prediction by State"
   ]
  },
  {
   "cell_type": "markdown",
   "metadata": {},
   "source": [
    "## <font color=navy> 1.\tIntroduction"
   ]
  },
  {
   "cell_type": "markdown",
   "metadata": {},
   "source": [
    "Birth rate has a massive impact on the economy. As the birth rate drops, the proportion of elderly people increase, which follows serious economic consequences. Health care costs for the elderly will strain resources, while the smaller working population will struggle to produce enough income tax revenue to support these rising costs. It’s likely this will cause spending power to decrease, consumerism to decline, job production to slow – and the economy to stagnate. For more information, refer to the link below:\n",
    "https://www.businessinsider.com/dropping-fertility-rates-will-affect-the-economy-2016-11\n",
    "Thus, I was interested in finding what affects the birth rate to the society. I will be investigating various features that may have an impact on the birth rate for each State. "
   ]
  },
  {
   "cell_type": "markdown",
   "metadata": {},
   "source": [
    "## <font color=navy> 2. Data"
   ]
  },
  {
   "cell_type": "markdown",
   "metadata": {},
   "source": [
    "- Data collection: Using web scrape from this url: https://www.infoplease.com/us/states"
   ]
  },
  {
   "cell_type": "markdown",
   "metadata": {},
   "source": [
    "- What the final data looks like: "
   ]
  },
  {
   "cell_type": "markdown",
   "metadata": {},
   "source": [
    ">- x1: per Capita personal income by state\n",
    "- x2: % of people in poverty by state\n",
    "- x3: crime rate by state\n",
    "- x4: marijuana policy by state\n",
    "- x5: number of deaths by state\n",
    "- y: birth rate"
   ]
  },
  {
   "cell_type": "markdown",
   "metadata": {},
   "source": [
    "## <font color=navy> 3. Methods\n",
    "I will use linear regression with lasso and ridge method. The reason being I do not know which variable will affect the target the most. I will rely on lasso and ridge methods to determine the significance of features. "
   ]
  },
  {
   "cell_type": "markdown",
   "metadata": {},
   "source": [
    "## <font color=navy> 4.\tResults"
   ]
  },
  {
   "cell_type": "markdown",
   "metadata": {},
   "source": [
    "- What was learned"
   ]
  },
  {
   "cell_type": "markdown",
   "metadata": {},
   "source": [
    "## 5. <font color=navy> Summary"
   ]
  },
  {
   "cell_type": "code",
   "execution_count": null,
   "metadata": {},
   "outputs": [],
   "source": []
  },
  {
   "cell_type": "code",
   "execution_count": null,
   "metadata": {},
   "outputs": [],
   "source": []
  },
  {
   "cell_type": "code",
   "execution_count": null,
   "metadata": {},
   "outputs": [],
   "source": []
  },
  {
   "cell_type": "code",
   "execution_count": null,
   "metadata": {},
   "outputs": [],
   "source": []
  },
  {
   "cell_type": "code",
   "execution_count": null,
   "metadata": {},
   "outputs": [],
   "source": []
  },
  {
   "cell_type": "code",
   "execution_count": null,
   "metadata": {},
   "outputs": [],
   "source": []
  },
  {
   "cell_type": "code",
   "execution_count": null,
   "metadata": {},
   "outputs": [],
   "source": []
  }
 ],
 "metadata": {
  "kernelspec": {
   "display_name": "Python 3",
   "language": "python",
   "name": "python3"
  },
  "language_info": {
   "codemirror_mode": {
    "name": "ipython",
    "version": 3
   },
   "file_extension": ".py",
   "mimetype": "text/x-python",
   "name": "python",
   "nbconvert_exporter": "python",
   "pygments_lexer": "ipython3",
   "version": "3.7.3"
  }
 },
 "nbformat": 4,
 "nbformat_minor": 2
}
